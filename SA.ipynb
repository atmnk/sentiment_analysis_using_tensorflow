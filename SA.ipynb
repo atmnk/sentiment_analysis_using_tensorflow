{
  "nbformat": 4,
  "nbformat_minor": 0,
  "metadata": {
    "colab": {
      "name": "SA.ipynb",
      "provenance": []
    },
    "kernelspec": {
      "name": "python3",
      "display_name": "Python 3"
    }
  },
  "cells": [
    {
      "cell_type": "code",
      "metadata": {
        "id": "X4bhFxZJ8qv7",
        "colab_type": "code",
        "colab": {}
      },
      "source": [
        "!wget --no-check-certificate \\\n",
        "    -O /tmp/reviews.tar.gz 'https://drive.google.com/uc?export=download&id=167PTcrVMxFlYjA9_8Hiccie_T3JsfSV1'"
      ],
      "execution_count": 0,
      "outputs": []
    },
    {
      "cell_type": "code",
      "metadata": {
        "id": "Oz31KZep9NVx",
        "colab_type": "code",
        "outputId": "73887ba4-2c01-42fe-92e7-55c57bd6cbae",
        "colab": {
          "base_uri": "https://localhost:8080/",
          "height": 102
        }
      },
      "source": [
        "!tar xvzf  '/tmp/reviews.tar.gz'"
      ],
      "execution_count": 0,
      "outputs": [
        {
          "output_type": "stream",
          "text": [
            "Reviews/\n",
            "Reviews/._Y.txt\n",
            "Reviews/Y.txt\n",
            "Reviews/._N.txt\n",
            "Reviews/N.txt\n"
          ],
          "name": "stdout"
        }
      ]
    },
    {
      "cell_type": "code",
      "metadata": {
        "id": "FIMqbrxz9Z4j",
        "colab_type": "code",
        "colab": {}
      },
      "source": [
        "!ls Reviews"
      ],
      "execution_count": 0,
      "outputs": []
    },
    {
      "cell_type": "code",
      "metadata": {
        "id": "tmJNiwX6FNOL",
        "colab_type": "code",
        "colab": {}
      },
      "source": [
        "import tensorflow as tf\n",
        "\n",
        "from tensorflow.keras.preprocessing.sequence import pad_sequences\n",
        "import tensorflow_datasets as tfds\n",
        "\n",
        "import numpy as np\n",
        "import pandas as pd  \n",
        "import random\n"
      ],
      "execution_count": 0,
      "outputs": []
    },
    {
      "cell_type": "code",
      "metadata": {
        "id": "VL0MzmsTBTMt",
        "colab_type": "code",
        "outputId": "705053ff-5ccb-4f46-a84d-fe731ba4ec49",
        "colab": {
          "base_uri": "https://localhost:8080/",
          "height": 204
        }
      },
      "source": [
        "with open('Reviews/Y.txt') as y:\n",
        "    yes = list(map(lambda x: ({'text': x,'sentiment': 1}),y.readlines()))\n",
        "\n",
        "with open('Reviews/N.txt') as n:\n",
        "    no = list(map(lambda x: ({'text': x,'sentiment': 0}),n.readlines()))\n",
        "data = yes + no\n",
        "random.shuffle(data)\n",
        "dataset = pd.DataFrame(data) \n",
        "\n",
        "sentences = dataset['text'].tolist()\n",
        "labels = dataset['sentiment'].tolist()\n",
        "\n",
        "for x in range(2):\n",
        "  print(sentences[x])\n",
        "  print(labels[x])\n",
        "  print(\"\\n\")\n",
        "\n",
        "\n",
        "vocab_size = 30000\n",
        "tokenizer = tfds.features.text.SubwordTextEncoder.build_from_corpus(sentences, vocab_size, max_subword_length=5)\n",
        "\n",
        "# How big is the vocab size?\n",
        "print(\"Vocab size is \", tokenizer.vocab_size)\n"
      ],
      "execution_count": 0,
      "outputs": [
        {
          "output_type": "stream",
          "text": [
            "Good story rhymes\n",
            "\n",
            "1\n",
            "\n",
            "\n",
            "Amazing One Of The Best Puzzle Games That I Played This Is Challenges My Head And Makes Me Smarter\n",
            "\n",
            "1\n",
            "\n",
            "\n",
            "Vocab size is  23357\n"
          ],
          "name": "stdout"
        }
      ]
    },
    {
      "cell_type": "code",
      "metadata": {
        "id": "zt02Xqw5FG1T",
        "colab_type": "code",
        "outputId": "253efdc7-5efd-4c8f-9d5a-00e3af84d87f",
        "colab": {
          "base_uri": "https://localhost:8080/",
          "height": 323
        }
      },
      "source": [
        "num = 5\n",
        "print(sentences[num])\n",
        "encoded = tokenizer.encode(sentences[num])\n",
        "print(encoded)\n",
        "\n",
        "# Separately print out each subword, decoded\n",
        "for i in encoded:\n",
        "  print(tokenizer.decode([i]))\n",
        "\n",
        "for i, sentence in enumerate(sentences):\n",
        "  sentences[i] = tokenizer.encode(sentence)\n",
        "\n",
        "# Check the sentences are appropriately replaced\n",
        "print(sentences[5])\n",
        "\n",
        "\n",
        "import numpy as np\n",
        "\n",
        "max_length = 50\n",
        "trunc_type='post'\n",
        "padding_type='post'\n",
        "\n",
        "# Pad all sequences\n",
        "sequences_padded = pad_sequences(sentences, maxlen=max_length, \n",
        "                                 padding=padding_type, truncating=trunc_type)\n",
        "\n",
        "# Separate out the sentences and labels into training and test sets\n",
        "training_size = int(len(sentences) * 0.8)\n",
        "\n",
        "training_sequences = sequences_padded[0:training_size]\n",
        "testing_sequences = sequences_padded[training_size:]\n",
        "training_labels = labels[0:training_size]\n",
        "testing_labels = labels[training_size:]\n",
        "\n",
        "# Make labels into numpy arrays for use with the network later\n",
        "training_labels_final = np.array(training_labels)\n",
        "testing_labels_final = np.array(testing_labels)"
      ],
      "execution_count": 0,
      "outputs": [
        {
          "output_type": "stream",
          "text": [
            "Total bs I had 4 aces and still..... Lost\n",
            "\n",
            "[909, 23133, 4764, 3, 156, 277, 9774, 5, 145, 181, 23133, 20090, 23111]\n",
            "Total\n",
            " \n",
            "bs \n",
            "I \n",
            "had \n",
            "4 \n",
            "aces \n",
            "and \n",
            "still\n",
            ".....\n",
            " \n",
            "Lost\n",
            "\n",
            "\n",
            "[909, 23133, 4764, 3, 156, 277, 9774, 5, 145, 181, 23133, 20090, 23111]\n"
          ],
          "name": "stdout"
        }
      ]
    },
    {
      "cell_type": "code",
      "metadata": {
        "id": "VH04ul5oFgrA",
        "colab_type": "code",
        "outputId": "9c774734-55af-4357-f920-254272044edf",
        "colab": {
          "base_uri": "https://localhost:8080/",
          "height": 323
        }
      },
      "source": [
        "embedding_dim = 16\n",
        "\n",
        "model = tf.keras.Sequential([\n",
        "    tf.keras.layers.Embedding(vocab_size, embedding_dim, input_length=max_length),\n",
        "    tf.keras.layers.Bidirectional(tf.keras.layers.LSTM(embedding_dim, \n",
        "                                                       return_sequences=True)), \n",
        "    tf.keras.layers.Bidirectional(tf.keras.layers.LSTM(embedding_dim)),\n",
        "    tf.keras.layers.Dense(6, activation='relu'),\n",
        "    tf.keras.layers.Dense(1, activation='sigmoid')\n",
        "])\n",
        "\n",
        "\n",
        "model.summary()"
      ],
      "execution_count": 0,
      "outputs": [
        {
          "output_type": "stream",
          "text": [
            "Model: \"sequential\"\n",
            "_________________________________________________________________\n",
            "Layer (type)                 Output Shape              Param #   \n",
            "=================================================================\n",
            "embedding (Embedding)        (None, 50, 16)            480000    \n",
            "_________________________________________________________________\n",
            "bidirectional (Bidirectional (None, 50, 32)            4224      \n",
            "_________________________________________________________________\n",
            "bidirectional_1 (Bidirection (None, 32)                6272      \n",
            "_________________________________________________________________\n",
            "dense (Dense)                (None, 6)                 198       \n",
            "_________________________________________________________________\n",
            "dense_1 (Dense)              (None, 1)                 7         \n",
            "=================================================================\n",
            "Total params: 490,701\n",
            "Trainable params: 490,701\n",
            "Non-trainable params: 0\n",
            "_________________________________________________________________\n"
          ],
          "name": "stdout"
        }
      ]
    },
    {
      "cell_type": "code",
      "metadata": {
        "id": "Wn1obdBCFl0J",
        "colab_type": "code",
        "outputId": "928810da-d989-46fd-ce1f-763c2f12da06",
        "colab": {
          "base_uri": "https://localhost:8080/",
          "height": 1000
        }
      },
      "source": [
        "num_epochs = 30\n",
        "model.compile(loss='binary_crossentropy',optimizer='adam',metrics=['accuracy'])\n",
        "history = model.fit(training_sequences, training_labels_final, epochs=num_epochs, validation_data=(testing_sequences, testing_labels_final))"
      ],
      "execution_count": 0,
      "outputs": [
        {
          "output_type": "stream",
          "text": [
            "Epoch 1/30\n",
            "495/495 [==============================] - 32s 64ms/step - loss: 0.4111 - accuracy: 0.8127 - val_loss: 0.2702 - val_accuracy: 0.8920\n",
            "Epoch 2/30\n",
            "495/495 [==============================] - 31s 63ms/step - loss: 0.1968 - accuracy: 0.9292 - val_loss: 0.2793 - val_accuracy: 0.8902\n",
            "Epoch 3/30\n",
            "495/495 [==============================] - 30s 61ms/step - loss: 0.1360 - accuracy: 0.9557 - val_loss: 0.3094 - val_accuracy: 0.8880\n",
            "Epoch 4/30\n",
            "495/495 [==============================] - 30s 61ms/step - loss: 0.1029 - accuracy: 0.9675 - val_loss: 0.3391 - val_accuracy: 0.8864\n",
            "Epoch 5/30\n",
            "495/495 [==============================] - 30s 61ms/step - loss: 0.0843 - accuracy: 0.9744 - val_loss: 0.3917 - val_accuracy: 0.8854\n",
            "Epoch 6/30\n",
            "495/495 [==============================] - 30s 61ms/step - loss: 0.0768 - accuracy: 0.9767 - val_loss: 0.3807 - val_accuracy: 0.8821\n",
            "Epoch 7/30\n",
            "495/495 [==============================] - 30s 61ms/step - loss: 0.0662 - accuracy: 0.9812 - val_loss: 0.4241 - val_accuracy: 0.8789\n",
            "Epoch 8/30\n",
            "495/495 [==============================] - 30s 61ms/step - loss: 0.0580 - accuracy: 0.9825 - val_loss: 0.4329 - val_accuracy: 0.8647\n",
            "Epoch 9/30\n",
            "495/495 [==============================] - 30s 61ms/step - loss: 0.0556 - accuracy: 0.9829 - val_loss: 0.4611 - val_accuracy: 0.8766\n",
            "Epoch 10/30\n",
            "495/495 [==============================] - 30s 61ms/step - loss: 0.0455 - accuracy: 0.9874 - val_loss: 0.4495 - val_accuracy: 0.8784\n",
            "Epoch 11/30\n",
            "495/495 [==============================] - 30s 61ms/step - loss: 0.0401 - accuracy: 0.9886 - val_loss: 0.5041 - val_accuracy: 0.8766\n",
            "Epoch 12/30\n",
            "495/495 [==============================] - 31s 62ms/step - loss: 0.0418 - accuracy: 0.9877 - val_loss: 0.5114 - val_accuracy: 0.8725\n",
            "Epoch 13/30\n",
            "495/495 [==============================] - 31s 62ms/step - loss: 0.0385 - accuracy: 0.9884 - val_loss: 0.5446 - val_accuracy: 0.8741\n",
            "Epoch 14/30\n",
            "495/495 [==============================] - 31s 63ms/step - loss: 0.0357 - accuracy: 0.9898 - val_loss: 0.4949 - val_accuracy: 0.8682\n",
            "Epoch 15/30\n",
            "495/495 [==============================] - 31s 62ms/step - loss: 0.0368 - accuracy: 0.9888 - val_loss: 0.5656 - val_accuracy: 0.8576\n",
            "Epoch 16/30\n",
            "495/495 [==============================] - 31s 62ms/step - loss: 0.0341 - accuracy: 0.9890 - val_loss: 0.5674 - val_accuracy: 0.8703\n",
            "Epoch 17/30\n",
            "495/495 [==============================] - 31s 62ms/step - loss: 0.0266 - accuracy: 0.9916 - val_loss: 0.6616 - val_accuracy: 0.8685\n",
            "Epoch 18/30\n",
            "495/495 [==============================] - 30s 61ms/step - loss: 0.0254 - accuracy: 0.9911 - val_loss: 0.7320 - val_accuracy: 0.8533\n",
            "Epoch 19/30\n",
            "495/495 [==============================] - 30s 61ms/step - loss: 0.0291 - accuracy: 0.9898 - val_loss: 0.5962 - val_accuracy: 0.8675\n",
            "Epoch 20/30\n",
            "495/495 [==============================] - 30s 61ms/step - loss: 0.0226 - accuracy: 0.9925 - val_loss: 0.7404 - val_accuracy: 0.8609\n",
            "Epoch 21/30\n",
            "495/495 [==============================] - 30s 62ms/step - loss: 0.0211 - accuracy: 0.9918 - val_loss: 0.7420 - val_accuracy: 0.8622\n",
            "Epoch 22/30\n",
            "495/495 [==============================] - 31s 62ms/step - loss: 0.0227 - accuracy: 0.9908 - val_loss: 0.6714 - val_accuracy: 0.8682\n",
            "Epoch 23/30\n",
            "495/495 [==============================] - 31s 62ms/step - loss: 0.0226 - accuracy: 0.9915 - val_loss: 0.6950 - val_accuracy: 0.8632\n",
            "Epoch 24/30\n",
            "495/495 [==============================] - 30s 61ms/step - loss: 0.0180 - accuracy: 0.9923 - val_loss: 0.7809 - val_accuracy: 0.8589\n",
            "Epoch 25/30\n",
            "495/495 [==============================] - 30s 61ms/step - loss: 0.0145 - accuracy: 0.9937 - val_loss: 0.8564 - val_accuracy: 0.8596\n",
            "Epoch 26/30\n",
            "495/495 [==============================] - 30s 61ms/step - loss: 0.0172 - accuracy: 0.9933 - val_loss: 0.8153 - val_accuracy: 0.8445\n",
            "Epoch 27/30\n",
            "495/495 [==============================] - 30s 61ms/step - loss: 0.0219 - accuracy: 0.9915 - val_loss: 0.7314 - val_accuracy: 0.8606\n",
            "Epoch 28/30\n",
            "495/495 [==============================] - 30s 61ms/step - loss: 0.0179 - accuracy: 0.9925 - val_loss: 0.7818 - val_accuracy: 0.8624\n",
            "Epoch 29/30\n",
            "495/495 [==============================] - 30s 61ms/step - loss: 0.0173 - accuracy: 0.9932 - val_loss: 0.8088 - val_accuracy: 0.8599\n",
            "Epoch 30/30\n",
            "495/495 [==============================] - 30s 61ms/step - loss: 0.0134 - accuracy: 0.9938 - val_loss: 0.9184 - val_accuracy: 0.8614\n"
          ],
          "name": "stdout"
        }
      ]
    },
    {
      "cell_type": "code",
      "metadata": {
        "id": "0JdDRHPRFsK3",
        "colab_type": "code",
        "outputId": "2bcf1ab7-7616-44f2-ff1e-78ecd73faffe",
        "colab": {
          "base_uri": "https://localhost:8080/",
          "height": 542
        }
      },
      "source": [
        "import matplotlib.pyplot as plt\n",
        "\n",
        "\n",
        "def plot_graphs(history, string):\n",
        "  plt.plot(history.history[string])\n",
        "  plt.plot(history.history['val_'+string])\n",
        "  plt.xlabel(\"Epochs\")\n",
        "  plt.ylabel(string)\n",
        "  plt.legend([string, 'val_'+string])\n",
        "  plt.show()\n",
        "  \n",
        "plot_graphs(history, \"accuracy\")\n",
        "plot_graphs(history, \"loss\")"
      ],
      "execution_count": 0,
      "outputs": [
        {
          "output_type": "display_data",
          "data": {
            "image/png": "[encoded data removed]",
            "text/plain": [
              "<Figure size 432x288 with 1 Axes>"
            ]
          },
          "metadata": {
            "tags": [],
            "needs_background": "light"
          }
        },
        {
          "output_type": "display_data",
          "data": {
            "image/png": "[encoded data removed]",
            "text/plain": [
              "<Figure size 432x288 with 1 Axes>"
            ]
          },
          "metadata": {
            "tags": [],
            "needs_background": "light"
          }
        }
      ]
    },
    {
      "cell_type": "code",
      "metadata": {
        "id": "nQTLi0h7M0Bt",
        "colab_type": "code",
        "colab": {}
      },
      "source": [
        "# Define a function to take a series of reviews\n",
        "# and predict whether each one is a positive or negative review\n",
        "\n",
        "# max_length = 100 # previously defined\n",
        "\n",
        "def predict_review(model, new_sentences, maxlen=max_length, show_padded_sequence=True ):\n",
        "  # Keep the original sentences so that we can keep using them later\n",
        "  # Create an array to hold the encoded sequences\n",
        "  new_sequences = []\n",
        "\n",
        "  # Convert the new reviews to sequences\n",
        "  for i, frvw in enumerate(new_sentences):\n",
        "    new_sequences.append(tokenizer.encode(frvw))\n",
        "\n",
        "  trunc_type='post' \n",
        "  padding_type='post'\n",
        "\n",
        "  # Pad all sequences for the new reviews\n",
        "  new_reviews_padded = pad_sequences(new_sequences, maxlen=max_length, \n",
        "                                 padding=padding_type, truncating=trunc_type)             \n",
        "\n",
        "  classes = model.predict(new_reviews_padded)\n",
        "\n",
        "  # The closer the class is to 1, the more positive the review is\n",
        "  for x in range(len(new_sentences)):\n",
        "    \n",
        "    # We can see the padded sequence if desired\n",
        "    # Print the sequence\n",
        "    # if (show_padded_sequence):\n",
        "      # print(new_reviews_padded[x])\n",
        "    # Print the review as text\n",
        "    print(new_sentences[x])\n",
        "    # Print its predicted class\n",
        "    print(classes[x])\n",
        "    # print(\"\\n\")"
      ],
      "execution_count": 0,
      "outputs": []
    },
    {
      "cell_type": "markdown",
      "metadata": {
        "id": "0x1YpAdTgVxe",
        "colab_type": "text"
      },
      "source": [
        ""
      ]
    },
    {
      "cell_type": "code",
      "metadata": {
        "id": "MJG6_yMrGLhE",
        "colab_type": "code",
        "outputId": "67a67f81-d56c-454f-f1ca-1e51e1cb6a6e",
        "colab": {
          "base_uri": "https://localhost:8080/",
          "height": 391
        }
      },
      "source": [
        "# Use the model to predict a review   \n",
        "fake_reviews = ['i love this game', \n",
        "                'I dont like this app', \n",
        "                'Everything works like charm in this game',\n",
        "                'Funtastic graphics', \n",
        "                'I don\\'t like this game',\n",
        "                'this game is so boring',\n",
        "                'This game sucks',\n",
        "                'not that accurate',\n",
        "                'not so fun',\n",
        "                'so happy to have this game',\n",
        "                'mad']\n",
        "\n",
        "predict_review(model, fake_reviews)"
      ],
      "execution_count": 0,
      "outputs": [
        {
          "output_type": "stream",
          "text": [
            "i love this game\n",
            "[0.92471886]\n",
            "I dont like this app\n",
            "[0.3410625]\n",
            "Everything works like charm in this game\n",
            "[0.9999315]\n",
            "Funtastic graphics\n",
            "[0.1251311]\n",
            "I don't like this game\n",
            "[0.55787355]\n",
            "this game is so boring\n",
            "[0.00091165]\n",
            "This game sucks\n",
            "[0.0004538]\n",
            "not that accurate\n",
            "[0.0036929]\n",
            "not so fun\n",
            "[0.00278167]\n",
            "so happy to have this game\n",
            "[0.9797364]\n",
            "mad\n",
            "[0.00012819]\n"
          ],
          "name": "stdout"
        }
      ]
    }
  ]
}